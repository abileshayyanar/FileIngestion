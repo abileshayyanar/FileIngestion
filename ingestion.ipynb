{
 "cells": [
  {
   "cell_type": "code",
   "execution_count": 56,
   "id": "3eab327b-25d2-49a1-86ca-22de58804fa9",
   "metadata": {},
   "outputs": [
    {
     "name": "stderr",
     "output_type": "stream",
     "text": [
      "ERROR: Could not find a version that satisfies the requirement yaml (from versions: none)\n",
      "ERROR: No matching distribution found for yaml\n",
      "\n",
      "[notice] A new release of pip available: 22.3 -> 22.3.1\n",
      "[notice] To update, run: python.exe -m pip install --upgrade pip\n"
     ]
    }
   ],
   "source": [
    "import sys\n",
    "!{sys.executable} -m pip install --user yaml"
   ]
  },
  {
   "cell_type": "code",
   "execution_count": 57,
   "id": "03b26b35-73f4-4d7e-87d2-11453eb8d616",
   "metadata": {},
   "outputs": [
    {
     "ename": "ModuleNotFoundError",
     "evalue": "No module named 'yaml'",
     "output_type": "error",
     "traceback": [
      "\u001b[1;31m---------------------------------------------------------------------------\u001b[0m",
      "\u001b[1;31mModuleNotFoundError\u001b[0m                       Traceback (most recent call last)",
      "Cell \u001b[1;32mIn [57], line 1\u001b[0m\n\u001b[1;32m----> 1\u001b[0m \u001b[38;5;28;01mimport\u001b[39;00m \u001b[38;5;21;01mtestUtility\u001b[39;00m \u001b[38;5;28;01mas\u001b[39;00m \u001b[38;5;21;01mutil\u001b[39;00m\n\u001b[0;32m      2\u001b[0m configData \u001b[38;5;241m=\u001b[39m util\u001b[38;5;241m.\u001b[39mreadFile(\u001b[38;5;124m\"\u001b[39m\u001b[38;5;124mshoppers.yaml\u001b[39m\u001b[38;5;124m\"\u001b[39m)\n",
      "File \u001b[1;32m~\\Downloads\\pandas-profiling-master\\pandas-profiling-master\\testUtility.py:4\u001b[0m\n\u001b[0;32m      2\u001b[0m \u001b[38;5;28;01mimport\u001b[39;00m \u001b[38;5;21;01mos\u001b[39;00m\n\u001b[0;32m      3\u001b[0m \u001b[38;5;28;01mimport\u001b[39;00m \u001b[38;5;21;01msubprocess\u001b[39;00m\n\u001b[1;32m----> 4\u001b[0m \u001b[38;5;28;01mimport\u001b[39;00m \u001b[38;5;21;01myaml\u001b[39;00m\n\u001b[0;32m      5\u001b[0m \u001b[38;5;28;01mimport\u001b[39;00m \u001b[38;5;21;01mpandas\u001b[39;00m \u001b[38;5;28;01mas\u001b[39;00m \u001b[38;5;21;01mpd\u001b[39;00m\n\u001b[0;32m      6\u001b[0m \u001b[38;5;28;01mimport\u001b[39;00m \u001b[38;5;21;01mdatetime\u001b[39;00m\n",
      "\u001b[1;31mModuleNotFoundError\u001b[0m: No module named 'yaml'"
     ]
    }
   ],
   "source": [
    "import testUtility as util\n",
    "configData = util.readFile(\"shoppers.yaml\")"
   ]
  },
  {
   "cell_type": "code",
   "execution_count": null,
   "id": "4f90d626-85a1-4465-a317-334d6df6a47b",
   "metadata": {},
   "outputs": [],
   "source": [
    "import logging\n",
    "import os\n",
    "import subprocess\n",
    "import yaml\n",
    "import pandas as pd\n",
    "import datetime\n",
    "import gc\n",
    "import re\n",
    "\n",
    "%%writefile testUtility.py\n",
    "\n",
    "def readFile(filepath):\n",
    "  with open(filepath, 'r') as stream:\n",
    "            try:\n",
    "              return yaml.safe_load(stream)\n",
    "            except yaml.YAMLError as exc:\n",
    "              logging.error(exc)\n",
    "             \n",
    "def replacer(string, char):\n",
    "  pattern = char + '{2,}'\n",
    "  string = re.sub(pattern, char, string)\n",
    "  return string\n",
    "            \n",
    "def headerValidation(df, table_confic):\n",
    "  df.columns = df.columns.str.lower()\n",
    "  df.columns = df.columns.str.replace('[^\\w]','_',regex=TRUE)\n",
    "  df.columns = list(map(lambda x: x.strip('_'), list(df.columns)))\n",
    "  df.columns = list(map(lambda x: replacer(x,'_'), list(df.columns)))\n",
    "  expected_col = list(map(lambda x: x.lower(), table_config['columns']))\n",
    "  expected_col.sort()\n",
    "  df.columns = list(map(lambda x: x.lower(), list(df.columns)))\n",
    "  df = df.reindex(sorted(df.columns), axis = 1)\n",
    "  if len(df.columns) == len(expected_col) and list(expected_col) == list(df.columns):\n",
    "        print(\"coloumn name & length validation passed\")\n",
    "        return 1\n",
    "  else:\n",
    "        print(\"column name & length validation failed\")\n",
    "        mismatchedColumnsFile = list(set(df.columns).difference(expected_col))\n",
    "        print(\"The following columns are not in the YAML file\", mismatchedColumnsFile)\n",
    "        missingYAMLFile = list(set(expected_col).difference(df.columns))\n",
    "        print(\"The following YAML columns are not in the file\", missingYAMLFile)\n",
    "        logging.info(f'df columns: {df.columns}')\n",
    "        logging.info(f'expected columns: {expected_col}')\n",
    "        return 0"
   ]
  },
  {
   "cell_type": "code",
   "execution_count": null,
   "id": "fd757bb2-1226-44b7-b86e-ff9c146d7a6a",
   "metadata": {},
   "outputs": [],
   "source": [
    "%%writefile shoppers.yaml\n",
    "file_type: csv \n",
    "dataset_name: acquire-valued-shoppers-challenge\n",
    "file_name: transactions\n",
    "table_name: dataTable\n",
    "inbound_delimiter: \",\"\n",
    "outbound_delimiter: \"|\"\n",
    "skip_leading_rows: 1\n",
    "columns:\n",
    "  - offer\n",
    "  - category\n",
    "  - quantity\n",
    "  - company\n",
    "  - offervalue\n",
    "  - brand"
   ]
  },
  {
   "cell_type": "code",
   "execution_count": null,
   "id": "6b9ef7b0-021d-4a9c-ba30-3fc224b0d4e5",
   "metadata": {},
   "outputs": [],
   "source": [
    "configData['inbound_delimiter']"
   ]
  },
  {
   "cell_type": "code",
   "execution_count": null,
   "id": "7fda00b0-c1c7-470a-a794-c2c69aec98fb",
   "metadata": {},
   "outputs": [],
   "source": [
    "configData"
   ]
  },
  {
   "cell_type": "code",
   "execution_count": null,
   "id": "87137601-1ba1-47ff-b6cb-458433fadd54",
   "metadata": {},
   "outputs": [],
   "source": [
    "import sys\n",
    "!{sys.executable} -m pip install --user pandas as pd"
   ]
  },
  {
   "cell_type": "code",
   "execution_count": null,
   "id": "453aa364-af55-45ae-ad4b-df0802b11e59",
   "metadata": {},
   "outputs": [],
   "source": [
    "import pandas as pd\n",
    "df_sample = pd.read_csv(\"C:\\Users\\abile\\acquire-valued-shoppers-challenge\\transactions.csv\", delimiter = ',')\n",
    "df_sample.head()"
   ]
  },
  {
   "cell_type": "code",
   "execution_count": null,
   "id": "1387699c-802c-4c67-9eef-a1980e98f430",
   "metadata": {},
   "outputs": [],
   "source": [
    "fileType = configData['fileType']\n",
    "sourceFile = \"./\" + configData['fileName'] + f'.{fileType}'\n",
    "df = pd.read_csv(sourceFile, configData['inbound_delimiter'])\n",
    "df.head()"
   ]
  },
  {
   "cell_type": "code",
   "execution_count": null,
   "id": "7c600815-7abe-4ca8-9f61-0976ea55cce8",
   "metadata": {},
   "outputs": [],
   "source": [
    "util.colHeaderVal(df,configData)"
   ]
  },
  {
   "cell_type": "code",
   "execution_count": null,
   "id": "d795a572-4044-49e2-9f77-024c4a5162e0",
   "metadata": {},
   "outputs": [],
   "source": [
    "print(\"columns of file are:\" ,df.columns)\n",
    "print(\"columns of YAML are:\" ,configData['columns'])"
   ]
  },
  {
   "cell_type": "code",
   "execution_count": null,
   "id": "aec72236-5682-4ce1-9baa-a802aaaaaa96",
   "metadata": {},
   "outputs": [],
   "source": [
    "if util.colHeaderVal(df,configData) == 0:\n",
    "    print(\"validation failed\")\n",
    "\n",
    "else:\n",
    "    print(\"validation passed\")"
   ]
  },
  {
   "cell_type": "code",
   "execution_count": 59,
   "id": "2b88b6af-94b5-454a-8e76-84bfd277d1ea",
   "metadata": {},
   "outputs": [
    {
     "ename": "SyntaxError",
     "evalue": "(unicode error) 'unicodeescape' codec can't decode bytes in position 2-3: truncated \\UXXXXXXXX escape (4199665371.py, line 1)",
     "output_type": "error",
     "traceback": [
      "\u001b[1;36m  Cell \u001b[1;32mIn [59], line 1\u001b[1;36m\u001b[0m\n\u001b[1;33m    pd.read_csv(\"C:\\Users\\abile\\acquire-valued-shoppers-challenge\\transactions.csv\")\u001b[0m\n\u001b[1;37m                                                                                   ^\u001b[0m\n\u001b[1;31mSyntaxError\u001b[0m\u001b[1;31m:\u001b[0m (unicode error) 'unicodeescape' codec can't decode bytes in position 2-3: truncated \\UXXXXXXXX escape\n"
     ]
    }
   ],
   "source": [
    "pd.read_csv(\"C:\\Users\\abile\\acquire-valued-shoppers-challenge\\transactions.csv\")"
   ]
  },
  {
   "cell_type": "code",
   "execution_count": 61,
   "id": "db482360-440f-481a-819e-f4fe6dbcd823",
   "metadata": {},
   "outputs": [
    {
     "ename": "SyntaxError",
     "evalue": "(unicode error) 'unicodeescape' codec can't decode bytes in position 2-3: truncated \\UXXXXXXXX escape (2927600054.py, line 1)",
     "output_type": "error",
     "traceback": [
      "\u001b[1;36m  Cell \u001b[1;32mIn [61], line 1\u001b[1;36m\u001b[0m\n\u001b[1;33m    os.path.getsize(\"C:\\Users\\abile\\acquire-valued-shoppers-challenge\\transactions.csv.gz\")\u001b[0m\n\u001b[1;37m                                                                                          ^\u001b[0m\n\u001b[1;31mSyntaxError\u001b[0m\u001b[1;31m:\u001b[0m (unicode error) 'unicodeescape' codec can't decode bytes in position 2-3: truncated \\UXXXXXXXX escape\n"
     ]
    }
   ],
   "source": [
    "os.path.getsize(\"C:\\Users\\abile\\acquire-valued-shoppers-challenge\\transactions.csv.gz\")"
   ]
  },
  {
   "cell_type": "code",
   "execution_count": null,
   "id": "404893e8-9590-450c-ae68-f866f2442070",
   "metadata": {},
   "outputs": [],
   "source": []
  }
 ],
 "metadata": {
  "kernelspec": {
   "display_name": "Python 3 (ipykernel)",
   "language": "python",
   "name": "python3"
  },
  "language_info": {
   "codemirror_mode": {
    "name": "ipython",
    "version": 3
   },
   "file_extension": ".py",
   "mimetype": "text/x-python",
   "name": "python",
   "nbconvert_exporter": "python",
   "pygments_lexer": "ipython3",
   "version": "3.11.0"
  }
 },
 "nbformat": 4,
 "nbformat_minor": 5
}
