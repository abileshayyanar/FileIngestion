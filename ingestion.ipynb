{
 "cells": [
  {
   "cell_type": "code",
   "execution_count": 45,
   "id": "4f90d626-85a1-4465-a317-334d6df6a47b",
   "metadata": {},
   "outputs": [
    {
     "name": "stdout",
     "output_type": "stream",
     "text": [
      "Overwriting testUtility.py\n"
     ]
    }
   ],
   "source": [
    "%%writefile testUtility.py\n",
    "import logging\n",
    "import os\n",
    "import subprocess\n",
    "import yaml\n",
    "import pandas as pd\n",
    "import datetime\n",
    "import gc\n",
    "import re\n",
    "\n",
    "def readFile(filepath):\n",
    "  with open(filepath, 'r') as stream:\n",
    "            try:\n",
    "              return yaml.safe_load(stream)\n",
    "            except yaml.YAMLError as exc:\n",
    "              logging.error(exc)\n",
    "             \n",
    "def replacer(string, char):\n",
    "  pattern = char + '{2,}'\n",
    "  string = re.sub(pattern, char, string)\n",
    "  return string\n",
    "            \n",
    "def headerValidation(df, table_confic):\n",
    "  df.columns = df.columns.str.lower()\n",
    "  df.columns = df.columns.str.replace('[^\\w]','_',regex=TRUE)\n",
    "  df.columns = list(map(lambda x: x.strip('_'), list(df.columns)))\n",
    "  df.columns = list(map(lambda x: replacer(x,'_'), list(df.columns)))\n",
    "  expected_col = list(map(lambda x: x.lower(), table_config['columns']))\n",
    "  expected_col.sort()\n",
    "  df.columns = list(map(lambda x: x.lower(), list(df.columns)))\n",
    "  df = df.reindex(sorted(df.columns), axis = 1)\n",
    "  if len(df.columns) == len(expected_col) and list(expected_col) == list(df.columns):\n",
    "        print(\"coloumn name & length validation passed\")\n",
    "        return 1\n",
    "  else:\n",
    "        print(\"column name & length validation failed\")\n",
    "        mismatchedColumnsFile = list(set(df.columns).difference(expected_col))\n",
    "        print(\"The following columns are not in the YAML file\", mismatchedColumnsFile)\n",
    "        missingYAMLFile = list(set(expected_col).difference(df.columns))\n",
    "        print(\"The following YAML columns are not in the file\", missingYAMLFile)\n",
    "        logging.info(f'df columns: {df.columns}')\n",
    "        logging.info(f'expected columns: {expected_col}')\n",
    "        return 0"
   ]
  },
  {
   "cell_type": "code",
   "execution_count": 46,
   "id": "fd757bb2-1226-44b7-b86e-ff9c146d7a6a",
   "metadata": {},
   "outputs": [
    {
     "name": "stdout",
     "output_type": "stream",
     "text": [
      "Overwriting shoppers.yaml\n"
     ]
    }
   ],
   "source": [
    "%%writefile shoppers.yaml\n",
    "file_type: csv \n",
    "dataset_name: acquire-valued-shoppers-challenge\n",
    "file_name: transactions\n",
    "table_nameL: edsurv\n",
    "inbound_delimiter: \",\"\n",
    "outbound_delimiter: \"|\"\n",
    "skip_leading_rows: 1\n",
    "columns:\n",
    "  - offer\n",
    "  - category\n",
    "  - quantity\n",
    "  - company\n",
    "  - offervalue\n",
    "  - brand"
   ]
  },
  {
   "cell_type": "code",
   "execution_count": null,
   "id": "3eab327b-25d2-49a1-86ca-22de58804fa9",
   "metadata": {},
   "outputs": [],
   "source": [
    "import sys\n",
    "!{sys.executable} -m pip install --user yaml"
   ]
  },
  {
   "cell_type": "code",
   "execution_count": null,
   "id": "03b26b35-73f4-4d7e-87d2-11453eb8d616",
   "metadata": {},
   "outputs": [],
   "source": [
    "import testUtility as util\n",
    "configData = util.readFile(\"shoppers.yaml\")"
   ]
  },
  {
   "cell_type": "code",
   "execution_count": null,
   "id": "6b9ef7b0-021d-4a9c-ba30-3fc224b0d4e5",
   "metadata": {},
   "outputs": [],
   "source": [
    "configData['inbound_delimiter']"
   ]
  },
  {
   "cell_type": "code",
   "execution_count": null,
   "id": "7fda00b0-c1c7-470a-a794-c2c69aec98fb",
   "metadata": {},
   "outputs": [],
   "source": [
    "configData"
   ]
  },
  {
   "cell_type": "code",
   "execution_count": null,
   "id": "87137601-1ba1-47ff-b6cb-458433fadd54",
   "metadata": {},
   "outputs": [],
   "source": [
    "import sys\n",
    "!{sys.executable} -m pip install --user pandas as pd"
   ]
  },
  {
   "cell_type": "code",
   "execution_count": null,
   "id": "453aa364-af55-45ae-ad4b-df0802b11e59",
   "metadata": {},
   "outputs": [],
   "source": [
    "import pandas as pd\n",
    "df_sample = pd.read_csv(\"transactions.csv\", delimiter = ',')\n",
    "df_sample.head()"
   ]
  },
  {
   "cell_type": "code",
   "execution_count": null,
   "id": "1387699c-802c-4c67-9eef-a1980e98f430",
   "metadata": {},
   "outputs": [],
   "source": [
    "fileType = configData['fileType']\n",
    "sourceFile = \"./\" + configData['fileName'] + f'.{fileType}'\n",
    "df = pd.read_csv(sourceFile, configData['inbound_delimiter'])\n",
    "df.head()"
   ]
  },
  {
   "cell_type": "code",
   "execution_count": null,
   "id": "7c600815-7abe-4ca8-9f61-0976ea55cce8",
   "metadata": {},
   "outputs": [],
   "source": [
    "util.colHeaderVal(df,configData)"
   ]
  },
  {
   "cell_type": "code",
   "execution_count": null,
   "id": "d795a572-4044-49e2-9f77-024c4a5162e0",
   "metadata": {},
   "outputs": [],
   "source": [
    "print(\"columns of file are:\" ,df.columns)\n",
    "print(\"columns of YAML are:\" ,configData['columns'])"
   ]
  },
  {
   "cell_type": "code",
   "execution_count": null,
   "id": "aec72236-5682-4ce1-9baa-a802aaaaaa96",
   "metadata": {},
   "outputs": [],
   "source": [
    "if util.colHeaderVal(df,configData) == 0:\n",
    "    print(\"validation failed\")\n",
    "\n",
    "else:\n",
    "    print(\"validation passed\")"
   ]
  },
  {
   "cell_type": "code",
   "execution_count": null,
   "id": "2b88b6af-94b5-454a-8e76-84bfd277d1ea",
   "metadata": {},
   "outputs": [],
   "source": [
    "pd.read_csv(\"./transactions.csv\")"
   ]
  }
 ],
 "metadata": {
  "kernelspec": {
   "display_name": "Python 3 (ipykernel)",
   "language": "python",
   "name": "python3"
  },
  "language_info": {
   "codemirror_mode": {
    "name": "ipython",
    "version": 3
   },
   "file_extension": ".py",
   "mimetype": "text/x-python",
   "name": "python",
   "nbconvert_exporter": "python",
   "pygments_lexer": "ipython3",
   "version": "3.11.0"
  }
 },
 "nbformat": 4,
 "nbformat_minor": 5
}
